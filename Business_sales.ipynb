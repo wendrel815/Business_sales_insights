{
 "cells": [
  {
   "cell_type": "raw",
   "id": "39209d5b",
   "metadata": {},
   "source": [
    "#project description\n",
    "\n",
    "-- it's a insight project\n",
    "Creating  hypotheses to generate actionable insights aimed at increasing the company's profitability\n",
    "\n",
    "-- number of columns and description of each one\n",
    "\n",
    "- 500K e 8 colunas ------------------------------------------------------------------------------------------------------------\n",
    "\n",
    "TransactionNo (nominal): a six-digit unique number that defines each transaction. The letter “C” in the code indicates a cancellation.\n",
    "\n",
    "Date (numeric): the date when each transaction was generated.\n",
    "\n",
    "ProductNo (nominal): a five or six-digit unique character used to identify a specific product.\n",
    "\n",
    "Product (nominal): product/item name.\n",
    "\n",
    "Price (numeric): the price of each product per unit in pound sterling (£).\n",
    "\n",
    "Quantity (numeric): the quantity of each product per transaction. Negative values related to cancelled transactions.\n",
    "\n",
    "CustomerNo (nominal): a five-digit unique number that defines each customer.\n",
    "\n",
    "Country (nominal): name of the country where the customer resides.\n",
    "\n",
    "\n",
    "- possible approach\n",
    "-- data cleaning\n",
    "-Remove duplicate or irrelevant observations\n",
    "-Fix structural errors\n",
    "-Filter unwanted outliers\n",
    "-Handle missing data\n",
    "-Validate and QA (question and answer)\n",
    "\n",
    "- Validity. - The degree to which your data complies with defined business rules or restrictions.\n",
    "- Precision. - Make sure your data is close to true values.\n",
    "- Completeness. - The degree to which all necessary data are known.\n",
    "- Consistency. - Make sure your data is consistent across the same dataset and/or multiple datasets.\n",
    "- Uniformity. The degree to which data is specified using the same unit of measurement.\n",
    "\n",
    "-- attribute engineering if necessary\n",
    "- creation of new columns\n",
    "\n",
    "-- hypothesis creation\n",
    "\n",
    "-- graphical validation of hypotheses\n",
    "\n",
    "-- structuring the insights\n",
    "\n",
    "-- business plan"
   ]
  },
  {
   "cell_type": "code",
   "execution_count": 1,
   "id": "d2636c3d",
   "metadata": {},
   "outputs": [],
   "source": [
    "#Imports\n",
    "\n",
    "#data\n",
    "import pandas as pd\n",
    "\n",
    "#graph\n",
    "import matplotlib.pyplot as plt\n",
    "import seaborn as sns"
   ]
  },
  {
   "cell_type": "code",
   "execution_count": 2,
   "id": "17977ffe",
   "metadata": {},
   "outputs": [
    {
     "name": "stderr",
     "output_type": "stream",
     "text": [
      "C:\\Users\\wendr\\virtual enviroments\\study\\lib\\site-packages\\IPython\\core\\interactiveshell.py:3251: DtypeWarning: Columns (0) have mixed types.Specify dtype option on import or set low_memory=False.\n",
      "  exec(code_obj, self.user_global_ns, self.user_ns)\n"
     ]
    },
    {
     "data": {
      "text/html": [
       "<div>\n",
       "<style scoped>\n",
       "    .dataframe tbody tr th:only-of-type {\n",
       "        vertical-align: middle;\n",
       "    }\n",
       "\n",
       "    .dataframe tbody tr th {\n",
       "        vertical-align: top;\n",
       "    }\n",
       "\n",
       "    .dataframe thead th {\n",
       "        text-align: right;\n",
       "    }\n",
       "</style>\n",
       "<table border=\"1\" class=\"dataframe\">\n",
       "  <thead>\n",
       "    <tr style=\"text-align: right;\">\n",
       "      <th></th>\n",
       "      <th>TransactionNo</th>\n",
       "      <th>Date</th>\n",
       "      <th>ProductNo</th>\n",
       "      <th>ProductName</th>\n",
       "      <th>Price</th>\n",
       "      <th>Quantity</th>\n",
       "      <th>CustomerNo</th>\n",
       "      <th>Country</th>\n",
       "    </tr>\n",
       "  </thead>\n",
       "  <tbody>\n",
       "    <tr>\n",
       "      <th>0</th>\n",
       "      <td>536365</td>\n",
       "      <td>2018-12-01</td>\n",
       "      <td>85123A</td>\n",
       "      <td>Cream Hanging Heart T-Light Holder</td>\n",
       "      <td>1.88</td>\n",
       "      <td>6</td>\n",
       "      <td>17850.0</td>\n",
       "      <td>United Kingdom</td>\n",
       "    </tr>\n",
       "    <tr>\n",
       "      <th>1</th>\n",
       "      <td>536365</td>\n",
       "      <td>2018-12-01</td>\n",
       "      <td>71053</td>\n",
       "      <td>White Moroccan Metal Lantern</td>\n",
       "      <td>2.01</td>\n",
       "      <td>6</td>\n",
       "      <td>17850.0</td>\n",
       "      <td>United Kingdom</td>\n",
       "    </tr>\n",
       "    <tr>\n",
       "      <th>2</th>\n",
       "      <td>536365</td>\n",
       "      <td>2018-12-01</td>\n",
       "      <td>84406B</td>\n",
       "      <td>Cream Cupid Hearts Coat Hanger</td>\n",
       "      <td>1.91</td>\n",
       "      <td>8</td>\n",
       "      <td>17850.0</td>\n",
       "      <td>United Kingdom</td>\n",
       "    </tr>\n",
       "    <tr>\n",
       "      <th>3</th>\n",
       "      <td>536365</td>\n",
       "      <td>2018-12-01</td>\n",
       "      <td>84029G</td>\n",
       "      <td>Knitted Union Flag Hot Water Bottle</td>\n",
       "      <td>2.01</td>\n",
       "      <td>6</td>\n",
       "      <td>17850.0</td>\n",
       "      <td>United Kingdom</td>\n",
       "    </tr>\n",
       "    <tr>\n",
       "      <th>4</th>\n",
       "      <td>536365</td>\n",
       "      <td>2018-12-01</td>\n",
       "      <td>84029E</td>\n",
       "      <td>Red Woolly Hottie White Heart</td>\n",
       "      <td>2.01</td>\n",
       "      <td>6</td>\n",
       "      <td>17850.0</td>\n",
       "      <td>United Kingdom</td>\n",
       "    </tr>\n",
       "  </tbody>\n",
       "</table>\n",
       "</div>"
      ],
      "text/plain": [
       "  TransactionNo        Date ProductNo                          ProductName  \\\n",
       "0        536365  2018-12-01    85123A   Cream Hanging Heart T-Light Holder   \n",
       "1        536365  2018-12-01     71053         White Moroccan Metal Lantern   \n",
       "2        536365  2018-12-01    84406B       Cream Cupid Hearts Coat Hanger   \n",
       "3        536365  2018-12-01    84029G  Knitted Union Flag Hot Water Bottle   \n",
       "4        536365  2018-12-01    84029E        Red Woolly Hottie White Heart   \n",
       "\n",
       "   Price  Quantity  CustomerNo         Country  \n",
       "0   1.88         6     17850.0  United Kingdom  \n",
       "1   2.01         6     17850.0  United Kingdom  \n",
       "2   1.91         8     17850.0  United Kingdom  \n",
       "3   2.01         6     17850.0  United Kingdom  \n",
       "4   2.01         6     17850.0  United Kingdom  "
      ]
     },
     "execution_count": 2,
     "metadata": {},
     "output_type": "execute_result"
    }
   ],
   "source": [
    "#load data\n",
    "path = 'C:/Users/wendr/ds enviroment/files/Business_Sales_Transaction.csv'\n",
    "data = pd.read_csv(path)\n",
    "data.head()"
   ]
  },
  {
   "cell_type": "raw",
   "id": "7152bee8",
   "metadata": {},
   "source": [
    "TransactionNo (nominal): a six-digit unique number that defines each transaction. The letter “C” in the code indicates a cancellation.\n",
    "- um cliente pode comprar mais de um produto então ele tera o mesmo numero de identificação\n",
    "\n",
    "Date (numeric): the date when each transaction was generated.\n",
    "\n",
    "ProductNo (nominal): a five or six-digit unique character used to identify a specific product.\n",
    "\n",
    "Product (nominal): product/item name.\n",
    "\n",
    "Price (numeric): the price of each product per unit in pound sterling (£).\n",
    "\n",
    "Quantity (numeric): the quantity of each product per transaction. Negative values related to cancelled transactions.\n",
    "\n",
    "CustomerNo (nominal): a five-digit unique number that defines each customer.\n",
    "\n",
    "Country (nominal): name of the country where the customer resides."
   ]
  },
  {
   "cell_type": "markdown",
   "id": "0a5df83e",
   "metadata": {},
   "source": [
    "***DATA ANALISYS***"
   ]
  },
  {
   "cell_type": "code",
   "execution_count": 3,
   "id": "3dc32e61",
   "metadata": {},
   "outputs": [
    {
     "data": {
      "text/html": [
       "<div>\n",
       "<style scoped>\n",
       "    .dataframe tbody tr th:only-of-type {\n",
       "        vertical-align: middle;\n",
       "    }\n",
       "\n",
       "    .dataframe tbody tr th {\n",
       "        vertical-align: top;\n",
       "    }\n",
       "\n",
       "    .dataframe thead th {\n",
       "        text-align: right;\n",
       "    }\n",
       "</style>\n",
       "<table border=\"1\" class=\"dataframe\">\n",
       "  <thead>\n",
       "    <tr style=\"text-align: right;\">\n",
       "      <th></th>\n",
       "      <th>Price</th>\n",
       "      <th>Quantity</th>\n",
       "      <th>CustomerNo</th>\n",
       "    </tr>\n",
       "  </thead>\n",
       "  <tbody>\n",
       "    <tr>\n",
       "      <th>count</th>\n",
       "      <td>536350.000000</td>\n",
       "      <td>536350.000000</td>\n",
       "      <td>536295.000000</td>\n",
       "    </tr>\n",
       "    <tr>\n",
       "      <th>mean</th>\n",
       "      <td>1.990811</td>\n",
       "      <td>9.919347</td>\n",
       "      <td>15227.893178</td>\n",
       "    </tr>\n",
       "    <tr>\n",
       "      <th>std</th>\n",
       "      <td>0.673649</td>\n",
       "      <td>216.662300</td>\n",
       "      <td>1716.582932</td>\n",
       "    </tr>\n",
       "    <tr>\n",
       "      <th>min</th>\n",
       "      <td>1.500000</td>\n",
       "      <td>-80995.000000</td>\n",
       "      <td>12004.000000</td>\n",
       "    </tr>\n",
       "    <tr>\n",
       "      <th>25%</th>\n",
       "      <td>1.690000</td>\n",
       "      <td>1.000000</td>\n",
       "      <td>13807.000000</td>\n",
       "    </tr>\n",
       "    <tr>\n",
       "      <th>50%</th>\n",
       "      <td>1.810000</td>\n",
       "      <td>3.000000</td>\n",
       "      <td>15152.000000</td>\n",
       "    </tr>\n",
       "    <tr>\n",
       "      <th>75%</th>\n",
       "      <td>2.120000</td>\n",
       "      <td>10.000000</td>\n",
       "      <td>16729.000000</td>\n",
       "    </tr>\n",
       "    <tr>\n",
       "      <th>max</th>\n",
       "      <td>98.920000</td>\n",
       "      <td>80995.000000</td>\n",
       "      <td>18287.000000</td>\n",
       "    </tr>\n",
       "  </tbody>\n",
       "</table>\n",
       "</div>"
      ],
      "text/plain": [
       "               Price       Quantity     CustomerNo\n",
       "count  536350.000000  536350.000000  536295.000000\n",
       "mean        1.990811       9.919347   15227.893178\n",
       "std         0.673649     216.662300    1716.582932\n",
       "min         1.500000  -80995.000000   12004.000000\n",
       "25%         1.690000       1.000000   13807.000000\n",
       "50%         1.810000       3.000000   15152.000000\n",
       "75%         2.120000      10.000000   16729.000000\n",
       "max        98.920000   80995.000000   18287.000000"
      ]
     },
     "execution_count": 3,
     "metadata": {},
     "output_type": "execute_result"
    }
   ],
   "source": [
    "#VERIFYING MINIMUM|MAXIMUM|AVERAGE VALUES\n",
    "data.describe()"
   ]
  },
  {
   "cell_type": "code",
   "execution_count": 4,
   "id": "84a0c107",
   "metadata": {},
   "outputs": [
    {
     "name": "stdout",
     "output_type": "stream",
     "text": [
      "<class 'pandas.core.frame.DataFrame'>\n",
      "RangeIndex: 536350 entries, 0 to 536349\n",
      "Data columns (total 8 columns):\n",
      " #   Column         Non-Null Count   Dtype  \n",
      "---  ------         --------------   -----  \n",
      " 0   TransactionNo  536350 non-null  object \n",
      " 1   Date           536350 non-null  object \n",
      " 2   ProductNo      536350 non-null  object \n",
      " 3   ProductName    536350 non-null  object \n",
      " 4   Price          536350 non-null  float64\n",
      " 5   Quantity       536350 non-null  int64  \n",
      " 6   CustomerNo     536295 non-null  float64\n",
      " 7   Country        536350 non-null  object \n",
      "dtypes: float64(2), int64(1), object(5)\n",
      "memory usage: 32.7+ MB\n"
     ]
    }
   ],
   "source": [
    "#INFO\n",
    "data.info()"
   ]
  },
  {
   "cell_type": "markdown",
   "id": "4b805e4a",
   "metadata": {},
   "source": [
    "***DATA CLEANING***"
   ]
  },
  {
   "cell_type": "code",
   "execution_count": 5,
   "id": "ced527f0",
   "metadata": {},
   "outputs": [
    {
     "name": "stdout",
     "output_type": "stream",
     "text": [
      "Missing values\n",
      "\n",
      "TransactionNo     0\n",
      "Date              0\n",
      "ProductNo         0\n",
      "ProductName       0\n",
      "Price             0\n",
      "Quantity          0\n",
      "CustomerNo       55\n",
      "Country           0\n",
      "dtype: int64\n",
      "without missing values\n",
      "\n",
      "TransactionNo    0\n",
      "Date             0\n",
      "ProductNo        0\n",
      "ProductName      0\n",
      "Price            0\n",
      "Quantity         0\n",
      "Country          0\n",
      "dtype: int64\n"
     ]
    }
   ],
   "source": [
    "#missing values\n",
    "print('Missing values')\n",
    "print('')\n",
    "print(data.isna().sum())\n",
    "\n",
    "\n",
    "# as the column that contains null values ​​is a customer identification column, it will not be possible to use statistical methods to impute values\n",
    "\n",
    "#so the best approach will be to amputate these missing values\n",
    "data_test = data.copy()\n",
    "print('without missing values')\n",
    "print('')\n",
    "data_test.dropna(axis=1,inplace=True)\n",
    "\n",
    "print(data_test.isna().sum())\n",
    "\n",
    "#for some reason when I use the drop function, the customer identification column is completely eliminated even if the null values\n",
    "#correspond to less than 1% of the total values"
   ]
  },
  {
   "cell_type": "code",
   "execution_count": 6,
   "id": "73d81c98",
   "metadata": {},
   "outputs": [],
   "source": [
    "#ELIMINATING THE MISSING DATA FROM THE CUSTOMER IDENTIFICATION COLUMN WITHOUT DELETING THE ENTIRE COLUMN\n",
    "Index = data[data.CustomerNo.isna()==True].index\n",
    "\n",
    "data.drop(Index , axis=0 , inplace=True)"
   ]
  },
  {
   "cell_type": "code",
   "execution_count": 7,
   "id": "5aeb3914",
   "metadata": {},
   "outputs": [
    {
     "name": "stdout",
     "output_type": "stream",
     "text": [
      "Missing values after the drop\n"
     ]
    },
    {
     "data": {
      "text/plain": [
       "TransactionNo    0\n",
       "Date             0\n",
       "ProductNo        0\n",
       "ProductName      0\n",
       "Price            0\n",
       "Quantity         0\n",
       "CustomerNo       0\n",
       "Country          0\n",
       "dtype: int64"
      ]
     },
     "execution_count": 7,
     "metadata": {},
     "output_type": "execute_result"
    }
   ],
   "source": [
    "print('Missing values after the drop')\n",
    "data.isna().sum()"
   ]
  },
  {
   "cell_type": "code",
   "execution_count": 8,
   "id": "1071a3d4",
   "metadata": {},
   "outputs": [],
   "source": [
    "#TRANSFORMING THE CUSTOMER IDENTIFICATION NUMBER TO WHOLE\n",
    "data.CustomerNo = data.CustomerNo.astype(int)"
   ]
  },
  {
   "cell_type": "code",
   "execution_count": 9,
   "id": "ec249246",
   "metadata": {},
   "outputs": [
    {
     "data": {
      "text/html": [
       "<div>\n",
       "<style scoped>\n",
       "    .dataframe tbody tr th:only-of-type {\n",
       "        vertical-align: middle;\n",
       "    }\n",
       "\n",
       "    .dataframe tbody tr th {\n",
       "        vertical-align: top;\n",
       "    }\n",
       "\n",
       "    .dataframe thead th {\n",
       "        text-align: right;\n",
       "    }\n",
       "</style>\n",
       "<table border=\"1\" class=\"dataframe\">\n",
       "  <thead>\n",
       "    <tr style=\"text-align: right;\">\n",
       "      <th></th>\n",
       "      <th>TransactionNo</th>\n",
       "      <th>Date</th>\n",
       "      <th>ProductNo</th>\n",
       "      <th>ProductName</th>\n",
       "      <th>Price</th>\n",
       "      <th>Quantity</th>\n",
       "      <th>CustomerNo</th>\n",
       "      <th>Country</th>\n",
       "    </tr>\n",
       "  </thead>\n",
       "  <tbody>\n",
       "    <tr>\n",
       "      <th>0</th>\n",
       "      <td>536365</td>\n",
       "      <td>2018-12-01</td>\n",
       "      <td>85123A</td>\n",
       "      <td>Cream Hanging Heart T-Light Holder</td>\n",
       "      <td>1.88</td>\n",
       "      <td>6</td>\n",
       "      <td>17850</td>\n",
       "      <td>United Kingdom</td>\n",
       "    </tr>\n",
       "    <tr>\n",
       "      <th>1</th>\n",
       "      <td>536365</td>\n",
       "      <td>2018-12-01</td>\n",
       "      <td>71053</td>\n",
       "      <td>White Moroccan Metal Lantern</td>\n",
       "      <td>2.01</td>\n",
       "      <td>6</td>\n",
       "      <td>17850</td>\n",
       "      <td>United Kingdom</td>\n",
       "    </tr>\n",
       "    <tr>\n",
       "      <th>2</th>\n",
       "      <td>536365</td>\n",
       "      <td>2018-12-01</td>\n",
       "      <td>84406B</td>\n",
       "      <td>Cream Cupid Hearts Coat Hanger</td>\n",
       "      <td>1.91</td>\n",
       "      <td>8</td>\n",
       "      <td>17850</td>\n",
       "      <td>United Kingdom</td>\n",
       "    </tr>\n",
       "    <tr>\n",
       "      <th>3</th>\n",
       "      <td>536365</td>\n",
       "      <td>2018-12-01</td>\n",
       "      <td>84029G</td>\n",
       "      <td>Knitted Union Flag Hot Water Bottle</td>\n",
       "      <td>2.01</td>\n",
       "      <td>6</td>\n",
       "      <td>17850</td>\n",
       "      <td>United Kingdom</td>\n",
       "    </tr>\n",
       "    <tr>\n",
       "      <th>4</th>\n",
       "      <td>536365</td>\n",
       "      <td>2018-12-01</td>\n",
       "      <td>84029E</td>\n",
       "      <td>Red Woolly Hottie White Heart</td>\n",
       "      <td>2.01</td>\n",
       "      <td>6</td>\n",
       "      <td>17850</td>\n",
       "      <td>United Kingdom</td>\n",
       "    </tr>\n",
       "  </tbody>\n",
       "</table>\n",
       "</div>"
      ],
      "text/plain": [
       "  TransactionNo        Date ProductNo                          ProductName  \\\n",
       "0        536365  2018-12-01    85123A   Cream Hanging Heart T-Light Holder   \n",
       "1        536365  2018-12-01     71053         White Moroccan Metal Lantern   \n",
       "2        536365  2018-12-01    84406B       Cream Cupid Hearts Coat Hanger   \n",
       "3        536365  2018-12-01    84029G  Knitted Union Flag Hot Water Bottle   \n",
       "4        536365  2018-12-01    84029E        Red Woolly Hottie White Heart   \n",
       "\n",
       "   Price  Quantity  CustomerNo         Country  \n",
       "0   1.88         6       17850  United Kingdom  \n",
       "1   2.01         6       17850  United Kingdom  \n",
       "2   1.91         8       17850  United Kingdom  \n",
       "3   2.01         6       17850  United Kingdom  \n",
       "4   2.01         6       17850  United Kingdom  "
      ]
     },
     "execution_count": 9,
     "metadata": {},
     "output_type": "execute_result"
    }
   ],
   "source": [
    "data.head()"
   ]
  },
  {
   "cell_type": "markdown",
   "id": "e2deee20",
   "metadata": {},
   "source": [
    "***FEATURE ENGINEERING***"
   ]
  },
  {
   "cell_type": "code",
   "execution_count": 10,
   "id": "7e31c9de",
   "metadata": {},
   "outputs": [
    {
     "data": {
      "text/html": [
       "<div>\n",
       "<style scoped>\n",
       "    .dataframe tbody tr th:only-of-type {\n",
       "        vertical-align: middle;\n",
       "    }\n",
       "\n",
       "    .dataframe tbody tr th {\n",
       "        vertical-align: top;\n",
       "    }\n",
       "\n",
       "    .dataframe thead th {\n",
       "        text-align: right;\n",
       "    }\n",
       "</style>\n",
       "<table border=\"1\" class=\"dataframe\">\n",
       "  <thead>\n",
       "    <tr style=\"text-align: right;\">\n",
       "      <th></th>\n",
       "      <th>TransactionNo</th>\n",
       "      <th>Date</th>\n",
       "      <th>ProductNo</th>\n",
       "      <th>ProductName</th>\n",
       "      <th>Price</th>\n",
       "      <th>Quantity</th>\n",
       "      <th>CustomerNo</th>\n",
       "      <th>Country</th>\n",
       "      <th>Final_Price</th>\n",
       "    </tr>\n",
       "  </thead>\n",
       "  <tbody>\n",
       "    <tr>\n",
       "      <th>0</th>\n",
       "      <td>536365</td>\n",
       "      <td>2018-12-01</td>\n",
       "      <td>85123A</td>\n",
       "      <td>Cream Hanging Heart T-Light Holder</td>\n",
       "      <td>1.88</td>\n",
       "      <td>6</td>\n",
       "      <td>17850</td>\n",
       "      <td>United Kingdom</td>\n",
       "      <td>11.28</td>\n",
       "    </tr>\n",
       "    <tr>\n",
       "      <th>1</th>\n",
       "      <td>536365</td>\n",
       "      <td>2018-12-01</td>\n",
       "      <td>71053</td>\n",
       "      <td>White Moroccan Metal Lantern</td>\n",
       "      <td>2.01</td>\n",
       "      <td>6</td>\n",
       "      <td>17850</td>\n",
       "      <td>United Kingdom</td>\n",
       "      <td>12.06</td>\n",
       "    </tr>\n",
       "    <tr>\n",
       "      <th>2</th>\n",
       "      <td>536365</td>\n",
       "      <td>2018-12-01</td>\n",
       "      <td>84406B</td>\n",
       "      <td>Cream Cupid Hearts Coat Hanger</td>\n",
       "      <td>1.91</td>\n",
       "      <td>8</td>\n",
       "      <td>17850</td>\n",
       "      <td>United Kingdom</td>\n",
       "      <td>15.28</td>\n",
       "    </tr>\n",
       "    <tr>\n",
       "      <th>3</th>\n",
       "      <td>536365</td>\n",
       "      <td>2018-12-01</td>\n",
       "      <td>84029G</td>\n",
       "      <td>Knitted Union Flag Hot Water Bottle</td>\n",
       "      <td>2.01</td>\n",
       "      <td>6</td>\n",
       "      <td>17850</td>\n",
       "      <td>United Kingdom</td>\n",
       "      <td>12.06</td>\n",
       "    </tr>\n",
       "    <tr>\n",
       "      <th>4</th>\n",
       "      <td>536365</td>\n",
       "      <td>2018-12-01</td>\n",
       "      <td>84029E</td>\n",
       "      <td>Red Woolly Hottie White Heart</td>\n",
       "      <td>2.01</td>\n",
       "      <td>6</td>\n",
       "      <td>17850</td>\n",
       "      <td>United Kingdom</td>\n",
       "      <td>12.06</td>\n",
       "    </tr>\n",
       "  </tbody>\n",
       "</table>\n",
       "</div>"
      ],
      "text/plain": [
       "  TransactionNo        Date ProductNo                          ProductName  \\\n",
       "0        536365  2018-12-01    85123A   Cream Hanging Heart T-Light Holder   \n",
       "1        536365  2018-12-01     71053         White Moroccan Metal Lantern   \n",
       "2        536365  2018-12-01    84406B       Cream Cupid Hearts Coat Hanger   \n",
       "3        536365  2018-12-01    84029G  Knitted Union Flag Hot Water Bottle   \n",
       "4        536365  2018-12-01    84029E        Red Woolly Hottie White Heart   \n",
       "\n",
       "   Price  Quantity  CustomerNo         Country  Final_Price  \n",
       "0   1.88         6       17850  United Kingdom        11.28  \n",
       "1   2.01         6       17850  United Kingdom        12.06  \n",
       "2   1.91         8       17850  United Kingdom        15.28  \n",
       "3   2.01         6       17850  United Kingdom        12.06  \n",
       "4   2.01         6       17850  United Kingdom        12.06  "
      ]
     },
     "execution_count": 10,
     "metadata": {},
     "output_type": "execute_result"
    }
   ],
   "source": [
    "#CREATING A NEW COLUMN WITH THE FINAL AMOUNT PAID BY THE PRODUCT SUM\n",
    "data['Final_Price'] = data.Price * data.Quantity\n",
    "data.head()"
   ]
  },
  {
   "cell_type": "code",
   "execution_count": 11,
   "id": "5be991dd",
   "metadata": {},
   "outputs": [
    {
     "data": {
      "text/html": [
       "<div>\n",
       "<style scoped>\n",
       "    .dataframe tbody tr th:only-of-type {\n",
       "        vertical-align: middle;\n",
       "    }\n",
       "\n",
       "    .dataframe tbody tr th {\n",
       "        vertical-align: top;\n",
       "    }\n",
       "\n",
       "    .dataframe thead th {\n",
       "        text-align: right;\n",
       "    }\n",
       "</style>\n",
       "<table border=\"1\" class=\"dataframe\">\n",
       "  <thead>\n",
       "    <tr style=\"text-align: right;\">\n",
       "      <th></th>\n",
       "      <th>TransactionNo</th>\n",
       "      <th>Date</th>\n",
       "      <th>ProductNo</th>\n",
       "      <th>ProductName</th>\n",
       "      <th>Price</th>\n",
       "      <th>Quantity</th>\n",
       "      <th>CustomerNo</th>\n",
       "      <th>Country</th>\n",
       "      <th>Final_Price</th>\n",
       "      <th>Year</th>\n",
       "      <th>Month</th>\n",
       "      <th>Day</th>\n",
       "    </tr>\n",
       "  </thead>\n",
       "  <tbody>\n",
       "    <tr>\n",
       "      <th>0</th>\n",
       "      <td>536365</td>\n",
       "      <td>2018-12-01</td>\n",
       "      <td>85123A</td>\n",
       "      <td>Cream Hanging Heart T-Light Holder</td>\n",
       "      <td>1.88</td>\n",
       "      <td>6</td>\n",
       "      <td>17850</td>\n",
       "      <td>United Kingdom</td>\n",
       "      <td>11.28</td>\n",
       "      <td>2018</td>\n",
       "      <td>12</td>\n",
       "      <td>1</td>\n",
       "    </tr>\n",
       "    <tr>\n",
       "      <th>1</th>\n",
       "      <td>536365</td>\n",
       "      <td>2018-12-01</td>\n",
       "      <td>71053</td>\n",
       "      <td>White Moroccan Metal Lantern</td>\n",
       "      <td>2.01</td>\n",
       "      <td>6</td>\n",
       "      <td>17850</td>\n",
       "      <td>United Kingdom</td>\n",
       "      <td>12.06</td>\n",
       "      <td>2018</td>\n",
       "      <td>12</td>\n",
       "      <td>1</td>\n",
       "    </tr>\n",
       "    <tr>\n",
       "      <th>2</th>\n",
       "      <td>536365</td>\n",
       "      <td>2018-12-01</td>\n",
       "      <td>84406B</td>\n",
       "      <td>Cream Cupid Hearts Coat Hanger</td>\n",
       "      <td>1.91</td>\n",
       "      <td>8</td>\n",
       "      <td>17850</td>\n",
       "      <td>United Kingdom</td>\n",
       "      <td>15.28</td>\n",
       "      <td>2018</td>\n",
       "      <td>12</td>\n",
       "      <td>1</td>\n",
       "    </tr>\n",
       "    <tr>\n",
       "      <th>3</th>\n",
       "      <td>536365</td>\n",
       "      <td>2018-12-01</td>\n",
       "      <td>84029G</td>\n",
       "      <td>Knitted Union Flag Hot Water Bottle</td>\n",
       "      <td>2.01</td>\n",
       "      <td>6</td>\n",
       "      <td>17850</td>\n",
       "      <td>United Kingdom</td>\n",
       "      <td>12.06</td>\n",
       "      <td>2018</td>\n",
       "      <td>12</td>\n",
       "      <td>1</td>\n",
       "    </tr>\n",
       "    <tr>\n",
       "      <th>4</th>\n",
       "      <td>536365</td>\n",
       "      <td>2018-12-01</td>\n",
       "      <td>84029E</td>\n",
       "      <td>Red Woolly Hottie White Heart</td>\n",
       "      <td>2.01</td>\n",
       "      <td>6</td>\n",
       "      <td>17850</td>\n",
       "      <td>United Kingdom</td>\n",
       "      <td>12.06</td>\n",
       "      <td>2018</td>\n",
       "      <td>12</td>\n",
       "      <td>1</td>\n",
       "    </tr>\n",
       "  </tbody>\n",
       "</table>\n",
       "</div>"
      ],
      "text/plain": [
       "  TransactionNo        Date ProductNo                          ProductName  \\\n",
       "0        536365  2018-12-01    85123A   Cream Hanging Heart T-Light Holder   \n",
       "1        536365  2018-12-01     71053         White Moroccan Metal Lantern   \n",
       "2        536365  2018-12-01    84406B       Cream Cupid Hearts Coat Hanger   \n",
       "3        536365  2018-12-01    84029G  Knitted Union Flag Hot Water Bottle   \n",
       "4        536365  2018-12-01    84029E        Red Woolly Hottie White Heart   \n",
       "\n",
       "   Price  Quantity  CustomerNo         Country  Final_Price  Year Month Day  \n",
       "0   1.88         6       17850  United Kingdom        11.28  2018    12   1  \n",
       "1   2.01         6       17850  United Kingdom        12.06  2018    12   1  \n",
       "2   1.91         8       17850  United Kingdom        15.28  2018    12   1  \n",
       "3   2.01         6       17850  United Kingdom        12.06  2018    12   1  \n",
       "4   2.01         6       17850  United Kingdom        12.06  2018    12   1  "
      ]
     },
     "execution_count": 11,
     "metadata": {},
     "output_type": "execute_result"
    }
   ],
   "source": [
    "#CREATING A COLUMN WITH THE YEAR AND MONTH AND DAY\n",
    "data['Year'] = data['Date'].apply(lambda x: x[0:4])\n",
    "data['Month'] = data['Date'].apply(lambda x: x[5:7])\n",
    "data['Day'] = data['Date'].apply(lambda x: x[9:11])\n",
    "data.head()"
   ]
  },
  {
   "cell_type": "code",
   "execution_count": 13,
   "id": "1cb242b4",
   "metadata": {},
   "outputs": [],
   "source": [
    "#converting all Transaction data to string to avoid inconsistencies because some of these\n",
    "#data contains letters\n",
    "\n",
    "data.TransactionNo = data.TransactionNo.astype(str)\n",
    "\n",
    "#create a column of cancellations - Canceled Transaction\n",
    "# for each TransactionNo element that starts with C, a True will be inserted\n",
    "# for each TransactionNo element that starts without C, a False will be inserted\n",
    "\n",
    "data['Cancelled_Transaction'] = data['TransactionNo'].apply(lambda x: True if x[0]=='C' else False)"
   ]
  },
  {
   "cell_type": "markdown",
   "id": "f87cdc24",
   "metadata": {},
   "source": [
    "***HYPOTHESIS CREATION***"
   ]
  },
  {
   "cell_type": "raw",
   "id": "71ea6d4c",
   "metadata": {},
   "source": [
    "---hypothesis\n",
    "- hypothesis 1: 2018 was the year with most number of transation \n",
    "- hypothesis 2: Cream Cupid Hearts Coat Hanger was the most profit product of 2019\n",
    "- hypothesis 3: the most part of the custumers live in United Kingdom\n",
    "- hypothesis 4: december wat the most profit month\n",
    "- hypothesis 5: more than 20% of customers buy more than one product in a single transaction\n",
    "- hypothesis 6: what are the products that are most often buyers together ?\n",
    "- hypothesis 7: wicht products are most cancelled ?"
   ]
  },
  {
   "cell_type": "markdown",
   "id": "889842a9",
   "metadata": {},
   "source": [
    "***hypothesis 1: 2018 was the year with most number of transation:*** False, 2019 was the year with the most number of transations"
   ]
  },
  {
   "cell_type": "code",
   "execution_count": 14,
   "id": "f95a4255",
   "metadata": {},
   "outputs": [],
   "source": [
    "year_exies = data.Year.value_counts().index\n",
    "year_values = data.Year.value_counts().values"
   ]
  },
  {
   "cell_type": "code",
   "execution_count": 36,
   "id": "6eb36645",
   "metadata": {
    "scrolled": false
   },
   "outputs": [
    {
     "data": {
      "text/plain": [
       "<BarContainer object of 2 artists>"
      ]
     },
     "execution_count": 36,
     "metadata": {},
     "output_type": "execute_result"
    },
    {
     "data": {
      "image/png": "[encoded data removed]",
      "text/plain": [
       "<Figure size 360x360 with 1 Axes>"
      ]
     },
     "metadata": {
      "needs_background": "light"
     },
     "output_type": "display_data"
    }
   ],
   "source": [
    "plt.figure(figsize=(5,5))\n",
    "plt.bar(year_exies, year_values,facecolor  ='green')"
   ]
  },
  {
   "cell_type": "markdown",
   "id": "ce41e10f",
   "metadata": {},
   "source": [
    "***hypothesis 2: Cream Cupid Hearts Coat Hanger was the most profit product of 2019***False, was Cream Hanging Heart T-light Holder the most profit product"
   ]
  },
  {
   "cell_type": "code",
   "execution_count": 16,
   "id": "c5952ae1",
   "metadata": {},
   "outputs": [],
   "source": [
    "Products_of_2019 = data[data.Year=='2019']\n",
    "\n",
    "\n",
    "product_axies = Products_of_2019.ProductName.value_counts().index[0:20]\n",
    "product_values = Products_of_2019.ProductName.value_counts().values[0:20]"
   ]
  },
  {
   "cell_type": "code",
   "execution_count": 37,
   "id": "96c2f062",
   "metadata": {},
   "outputs": [
    {
     "data": {
      "image/png": "[encoded data removed]",
      "text/plain": [
       "<Figure size 1080x396 with 1 Axes>"
      ]
     },
     "metadata": {
      "needs_background": "light"
     },
     "output_type": "display_data"
    }
   ],
   "source": [
    "plt.figure(figsize=(15,5.5))\n",
    "plt.bar(product_axies, product_values)\n",
    "plt.xticks(rotation=90)\n",
    "plt.show()"
   ]
  },
  {
   "cell_type": "markdown",
   "id": "701fc615",
   "metadata": {},
   "source": [
    "***hypothesis 3: the most part of the custumers live in United Kingdom***True, the most part of the custumers really are from United Kingdom"
   ]
  },
  {
   "cell_type": "code",
   "execution_count": 18,
   "id": "6db2bf0e",
   "metadata": {},
   "outputs": [],
   "source": [
    "Country_axies = data.Country.value_counts().index[0:15]\n",
    "Country_values = data.Country.value_counts().values[0:15]"
   ]
  },
  {
   "cell_type": "code",
   "execution_count": 19,
   "id": "3ac41ee0",
   "metadata": {},
   "outputs": [
    {
     "data": {
      "image/png": "[encoded data removed]",
      "text/plain": [
       "<Figure size 1080x540 with 1 Axes>"
      ]
     },
     "metadata": {
      "needs_background": "light"
     },
     "output_type": "display_data"
    }
   ],
   "source": [
    "plt.figure(figsize=(15,7.5))\n",
    "plt.bar(Country_axies, Country_values)\n",
    "plt.xticks(rotation=90)\n",
    "plt.show()"
   ]
  },
  {
   "cell_type": "markdown",
   "id": "51dbef4f",
   "metadata": {},
   "source": [
    "***hypothesis 4: december wat the most profit month*** False, november was the most profit month"
   ]
  },
  {
   "cell_type": "code",
   "execution_count": 20,
   "id": "4d031351",
   "metadata": {},
   "outputs": [],
   "source": [
    "month_axies = data.Month.value_counts().index\n",
    "month_values = data.Month.value_counts().values"
   ]
  },
  {
   "cell_type": "code",
   "execution_count": 21,
   "id": "d41f407e",
   "metadata": {},
   "outputs": [
    {
     "data": {
      "image/png": "[encoded data removed]",
      "text/plain": [
       "<Figure size 1080x540 with 1 Axes>"
      ]
     },
     "metadata": {
      "needs_background": "light"
     },
     "output_type": "display_data"
    }
   ],
   "source": [
    "plt.figure(figsize=(15,7.5))\n",
    "plt.bar(month_axies, month_values)\n",
    "plt.xticks(rotation=90)\n",
    "plt.show()"
   ]
  },
  {
   "cell_type": "markdown",
   "id": "12e26b5b",
   "metadata": {},
   "source": [
    "***hypothesis 5: more than 20% of customers buy more than one product in a single transaction***False, only 4.33% buy more than a product in a sigle transaction"
   ]
  },
  {
   "cell_type": "code",
   "execution_count": null,
   "id": "af31bc02",
   "metadata": {},
   "outputs": [],
   "source": []
  },
  {
   "cell_type": "code",
   "execution_count": 22,
   "id": "1fe623ff",
   "metadata": {},
   "outputs": [
    {
     "name": "stdout",
     "output_type": "stream",
     "text": [
      "% of Customers that buy more than a product in a single transaction: 4.32%\n"
     ]
    }
   ],
   "source": [
    "#basic math will be used to find the percentage of customers who bought more than one product in a single transaction\n",
    "#total customers numbers\n",
    "total_customers = len(data)\n",
    "\n",
    "#total customers numbers that buy more than a product in a single transaction\n",
    "customerss_that_buy_twaice = len(data.TransactionNo.unique())\n",
    "\n",
    "#percentage of clientes that buy more than a product in a single transaction\n",
    "customers20 = ((customerss_that_buy_twaice * 100)/total_customers)\n",
    "\n",
    "print('% of Customers that buy more than a product in a single transaction: {}%'.format(round(customers20,2)))"
   ]
  },
  {
   "cell_type": "markdown",
   "id": "cbdd886a",
   "metadata": {},
   "source": [
    "***hypothesis 7: what are the products that are most often buyers together ?***"
   ]
  },
  {
   "cell_type": "code",
   "execution_count": 38,
   "id": "388f1d16",
   "metadata": {
    "scrolled": true
   },
   "outputs": [
    {
     "data": {
      "text/html": [
       "<div>\n",
       "<style scoped>\n",
       "    .dataframe tbody tr th:only-of-type {\n",
       "        vertical-align: middle;\n",
       "    }\n",
       "\n",
       "    .dataframe tbody tr th {\n",
       "        vertical-align: top;\n",
       "    }\n",
       "\n",
       "    .dataframe thead th {\n",
       "        text-align: right;\n",
       "    }\n",
       "</style>\n",
       "<table border=\"1\" class=\"dataframe\">\n",
       "  <thead>\n",
       "    <tr style=\"text-align: right;\">\n",
       "      <th></th>\n",
       "      <th>TransactionNo</th>\n",
       "      <th>Date</th>\n",
       "      <th>ProductNo</th>\n",
       "      <th>ProductName</th>\n",
       "      <th>Price</th>\n",
       "      <th>Quantity</th>\n",
       "      <th>CustomerNo</th>\n",
       "      <th>Country</th>\n",
       "      <th>Final_Price</th>\n",
       "      <th>Year</th>\n",
       "      <th>Month</th>\n",
       "      <th>Day</th>\n",
       "      <th>Cancelled_Transaction</th>\n",
       "    </tr>\n",
       "  </thead>\n",
       "  <tbody>\n",
       "    <tr>\n",
       "      <th>0</th>\n",
       "      <td>536365</td>\n",
       "      <td>2018-12-01</td>\n",
       "      <td>85123A</td>\n",
       "      <td>Cream Hanging Heart T-Light Holder</td>\n",
       "      <td>1.88</td>\n",
       "      <td>6</td>\n",
       "      <td>17850</td>\n",
       "      <td>United Kingdom</td>\n",
       "      <td>11.28</td>\n",
       "      <td>2018</td>\n",
       "      <td>12</td>\n",
       "      <td>1</td>\n",
       "      <td>False</td>\n",
       "    </tr>\n",
       "    <tr>\n",
       "      <th>1</th>\n",
       "      <td>536365</td>\n",
       "      <td>2018-12-01</td>\n",
       "      <td>71053</td>\n",
       "      <td>White Moroccan Metal Lantern</td>\n",
       "      <td>2.01</td>\n",
       "      <td>6</td>\n",
       "      <td>17850</td>\n",
       "      <td>United Kingdom</td>\n",
       "      <td>12.06</td>\n",
       "      <td>2018</td>\n",
       "      <td>12</td>\n",
       "      <td>1</td>\n",
       "      <td>False</td>\n",
       "    </tr>\n",
       "    <tr>\n",
       "      <th>2</th>\n",
       "      <td>536365</td>\n",
       "      <td>2018-12-01</td>\n",
       "      <td>84406B</td>\n",
       "      <td>Cream Cupid Hearts Coat Hanger</td>\n",
       "      <td>1.91</td>\n",
       "      <td>8</td>\n",
       "      <td>17850</td>\n",
       "      <td>United Kingdom</td>\n",
       "      <td>15.28</td>\n",
       "      <td>2018</td>\n",
       "      <td>12</td>\n",
       "      <td>1</td>\n",
       "      <td>False</td>\n",
       "    </tr>\n",
       "    <tr>\n",
       "      <th>3</th>\n",
       "      <td>536365</td>\n",
       "      <td>2018-12-01</td>\n",
       "      <td>84029G</td>\n",
       "      <td>Knitted Union Flag Hot Water Bottle</td>\n",
       "      <td>2.01</td>\n",
       "      <td>6</td>\n",
       "      <td>17850</td>\n",
       "      <td>United Kingdom</td>\n",
       "      <td>12.06</td>\n",
       "      <td>2018</td>\n",
       "      <td>12</td>\n",
       "      <td>1</td>\n",
       "      <td>False</td>\n",
       "    </tr>\n",
       "    <tr>\n",
       "      <th>4</th>\n",
       "      <td>536365</td>\n",
       "      <td>2018-12-01</td>\n",
       "      <td>84029E</td>\n",
       "      <td>Red Woolly Hottie White Heart</td>\n",
       "      <td>2.01</td>\n",
       "      <td>6</td>\n",
       "      <td>17850</td>\n",
       "      <td>United Kingdom</td>\n",
       "      <td>12.06</td>\n",
       "      <td>2018</td>\n",
       "      <td>12</td>\n",
       "      <td>1</td>\n",
       "      <td>False</td>\n",
       "    </tr>\n",
       "  </tbody>\n",
       "</table>\n",
       "</div>"
      ],
      "text/plain": [
       "  TransactionNo        Date ProductNo                          ProductName  \\\n",
       "0        536365  2018-12-01    85123A   Cream Hanging Heart T-Light Holder   \n",
       "1        536365  2018-12-01     71053         White Moroccan Metal Lantern   \n",
       "2        536365  2018-12-01    84406B       Cream Cupid Hearts Coat Hanger   \n",
       "3        536365  2018-12-01    84029G  Knitted Union Flag Hot Water Bottle   \n",
       "4        536365  2018-12-01    84029E        Red Woolly Hottie White Heart   \n",
       "\n",
       "   Price  Quantity  CustomerNo         Country  Final_Price  Year Month Day  \\\n",
       "0   1.88         6       17850  United Kingdom        11.28  2018    12   1   \n",
       "1   2.01         6       17850  United Kingdom        12.06  2018    12   1   \n",
       "2   1.91         8       17850  United Kingdom        15.28  2018    12   1   \n",
       "3   2.01         6       17850  United Kingdom        12.06  2018    12   1   \n",
       "4   2.01         6       17850  United Kingdom        12.06  2018    12   1   \n",
       "\n",
       "   Cancelled_Transaction  \n",
       "0                  False  \n",
       "1                  False  \n",
       "2                  False  \n",
       "3                  False  \n",
       "4                  False  "
      ]
     },
     "execution_count": 38,
     "metadata": {},
     "output_type": "execute_result"
    }
   ],
   "source": [
    "data.head()"
   ]
  },
  {
   "cell_type": "code",
   "execution_count": 39,
   "id": "6678787a",
   "metadata": {},
   "outputs": [
    {
     "name": "stderr",
     "output_type": "stream",
     "text": [
      "C:\\Users\\wendr\\AppData\\Local\\Temp\\ipykernel_7444\\3534956785.py:8: SettingWithCopyWarning: \n",
      "A value is trying to be set on a copy of a slice from a DataFrame.\n",
      "Try using .loc[row_indexer,col_indexer] = value instead\n",
      "\n",
      "See the caveats in the documentation: https://pandas.pydata.org/pandas-docs/stable/user_guide/indexing.html#returning-a-view-versus-a-copy\n",
      "  df['Grouped'] = df.groupby('TransactionNo')['ProductName'].transform(lambda x: ','.join(x))\n"
     ]
    },
    {
     "data": {
      "text/html": [
       "<div>\n",
       "<style scoped>\n",
       "    .dataframe tbody tr th:only-of-type {\n",
       "        vertical-align: middle;\n",
       "    }\n",
       "\n",
       "    .dataframe tbody tr th {\n",
       "        vertical-align: top;\n",
       "    }\n",
       "\n",
       "    .dataframe thead th {\n",
       "        text-align: right;\n",
       "    }\n",
       "</style>\n",
       "<table border=\"1\" class=\"dataframe\">\n",
       "  <thead>\n",
       "    <tr style=\"text-align: right;\">\n",
       "      <th></th>\n",
       "      <th>TransactionNo</th>\n",
       "      <th>Grouped</th>\n",
       "    </tr>\n",
       "  </thead>\n",
       "  <tbody>\n",
       "    <tr>\n",
       "      <th>0</th>\n",
       "      <td>536365</td>\n",
       "      <td>Cream Hanging Heart T-Light Holder,White Moroc...</td>\n",
       "    </tr>\n",
       "    <tr>\n",
       "      <th>7</th>\n",
       "      <td>536366</td>\n",
       "      <td>Hand Warmer Union Jack,Hand Warmer Red Retrospot</td>\n",
       "    </tr>\n",
       "    <tr>\n",
       "      <th>9</th>\n",
       "      <td>536367</td>\n",
       "      <td>Assorted Colour Bird Ornament,Poppy's Playhous...</td>\n",
       "    </tr>\n",
       "    <tr>\n",
       "      <th>21</th>\n",
       "      <td>536368</td>\n",
       "      <td>Jam Making Set With Jars,Red Coat Rack Paris F...</td>\n",
       "    </tr>\n",
       "    <tr>\n",
       "      <th>26</th>\n",
       "      <td>536370</td>\n",
       "      <td>Alarm Clock Bakelike Pink,Alarm Clock Bakelike...</td>\n",
       "    </tr>\n",
       "  </tbody>\n",
       "</table>\n",
       "</div>"
      ],
      "text/plain": [
       "   TransactionNo                                            Grouped\n",
       "0         536365  Cream Hanging Heart T-Light Holder,White Moroc...\n",
       "7         536366   Hand Warmer Union Jack,Hand Warmer Red Retrospot\n",
       "9         536367  Assorted Colour Bird Ornament,Poppy's Playhous...\n",
       "21        536368  Jam Making Set With Jars,Red Coat Rack Paris F...\n",
       "26        536370  Alarm Clock Bakelike Pink,Alarm Clock Bakelike..."
      ]
     },
     "execution_count": 39,
     "metadata": {},
     "output_type": "execute_result"
    }
   ],
   "source": [
    "#creating a copy of the dataset keeping all the duplicated rows of the TransactionNo column\n",
    "df = data[data['TransactionNo'].duplicated(keep=False)]\n",
    "\n",
    "\n",
    "#creating a 'Grouped' column using the 'TransactionNo' columns as a grouper that receives the data from the 'ProductName' column they have\n",
    "#the same transaction number 'TransactionNo', then it's going through a transformation method and an embedded function that will\n",
    "#join common data into a single line\n",
    "df['Grouped'] = df.groupby('TransactionNo')['ProductName'].transform(lambda x: ','.join(x))\n",
    "\n",
    "#creating a new dataset that receives 'Transaction No','Grouped' and eliminates duplicate lines\n",
    "df = df[['TransactionNo','Grouped']].drop_duplicates()\n",
    "df.head()"
   ]
  },
  {
   "cell_type": "code",
   "execution_count": 43,
   "id": "c351921b",
   "metadata": {},
   "outputs": [],
   "source": [
    "#required libraries\n",
    "\n",
    "from itertools import combinations\n",
    "from collections import Counter"
   ]
  },
  {
   "cell_type": "code",
   "execution_count": 46,
   "id": "b3aa0c00",
   "metadata": {},
   "outputs": [
    {
     "data": {
      "text/plain": [
       "[(('Green Regency Teacup And Saucer', 'Pink Regency Teacup And Saucer'), 618),\n",
       " (('Jumbo Bag Pink Polkadot', 'Jumbo Bag Red Retrospot'), 544),\n",
       " (('Green Regency Teacup And Saucer', 'Roses Regency Teacup And Saucer'), 534),\n",
       " (('Jumbo Shopper Vintage Red Paisley', 'Jumbo Bag Red Retrospot'), 467),\n",
       " (('Jumbo Storage Bag Suki', 'Jumbo Bag Red Retrospot'), 457),\n",
       " (('Lunch Bag Red Retrospot', 'Lunch Bag Black Skull'), 443),\n",
       " (('Pink Regency Teacup And Saucer', 'Roses Regency Teacup And Saucer'), 419),\n",
       " (('Alarm Clock Bakelike Green', 'Alarm Clock Bakelike Red'), 396),\n",
       " (('Jumbo Bag Red Retrospot', 'Jumbo Bag Baroque Black White'), 396),\n",
       " (('Jumbo Bag Apples', 'Jumbo Bag Red Retrospot'), 393)]"
      ]
     },
     "execution_count": 46,
     "metadata": {},
     "output_type": "execute_result"
    }
   ],
   "source": [
    "#esstancing a class which is basically a countercount = Counter()\n",
    "count = Counter()\n",
    "\n",
    "#creating a flower-type loop that will receive all the data from the Grouped column\n",
    "for row in df['Grouped']:\n",
    "    # will receive each element and divided by the comma that will enter the list    row_list = row.split(',')\n",
    "    #then it will combine the elements that are placed together\n",
    "    row_list = row.split(',')\n",
    "    count.update(Counter(combinations(row_list,2))) # 2 = o numero de elementos que vai retornar junto com a contagem dessa combinação\n",
    "    \n",
    "#shows the 10 most common items\n",
    "count.most_common(10)"
   ]
  },
  {
   "cell_type": "markdown",
   "id": "e74a0115",
   "metadata": {},
   "source": [
    "***hypothesis 8: wicht products are most cancelled ?*** Regency Cakestand 3 Tier is product the are most bean cancelled"
   ]
  },
  {
   "cell_type": "code",
   "execution_count": 23,
   "id": "a913ff79",
   "metadata": {},
   "outputs": [],
   "source": [
    "#tenho que identificar os produtos que são mais cancelados\n",
    "# - filtrar todos os produtos que foram cancelados\n",
    "#depois criar um grafico de barras com os produtos ou os 10 mais cancelados"
   ]
  },
  {
   "cell_type": "code",
   "execution_count": 47,
   "id": "a110adcf",
   "metadata": {},
   "outputs": [
    {
     "data": {
      "image/png": "[encoded data removed]",
      "text/plain": [
       "<Figure size 1080x360 with 1 Axes>"
      ]
     },
     "metadata": {
      "needs_background": "light"
     },
     "output_type": "display_data"
    }
   ],
   "source": [
    "# - filtrar todos os produtos que foram cancelados\n",
    "Cancelled_products = data[data.Cancelled_Transaction == True]\n",
    "\n",
    "#defining the axes of the Cancelled products\n",
    "eixo_x = Cancelled_products.ProductName.value_counts()[0:10].index\n",
    "eixo_y = Cancelled_products.ProductName.value_counts()[0:10].values\n",
    "\n",
    "plt.figure(figsize=(15,5))\n",
    "\n",
    "plt.bar(eixo_x , eixo_y)\n",
    "plt.xticks(rotation=90)\n",
    "plt.show()"
   ]
  },
  {
   "cell_type": "code",
   "execution_count": null,
   "id": "701dd04a",
   "metadata": {},
   "outputs": [],
   "source": [
    "data.head()"
   ]
  },
  {
   "cell_type": "code",
   "execution_count": null,
   "id": "c1154a00",
   "metadata": {},
   "outputs": [],
   "source": []
  },
  {
   "cell_type": "raw",
   "id": "c6bca740",
   "metadata": {},
   "source": [
    "#################### the most interesting insights about the analysis carried out #############################################\n",
    "\n",
    "1 -  Regency Cakestand 3 Tier is the product that is canceled the most, it would be interesting to understand with customers why canceled the purchase of this product\n",
    "\n",
    "2 - I checked the products that are usually bought together, it might be interesting to create promotional campaigns,\n",
    "with the set of these products by inserting one more\n",
    "\n",
    "3 - identify why such a low % of customers buy more than one product in a single transactio"
   ]
  },
  {
   "cell_type": "code",
   "execution_count": null,
   "id": "687cb5f5",
   "metadata": {},
   "outputs": [],
   "source": []
  }
 ],
 "metadata": {
  "kernelspec": {
   "display_name": "Python 3 (ipykernel)",
   "language": "python",
   "name": "python3"
  },
  "language_info": {
   "codemirror_mode": {
    "name": "ipython",
    "version": 3
   },
   "file_extension": ".py",
   "mimetype": "text/x-python",
   "name": "python",
   "nbconvert_exporter": "python",
   "pygments_lexer": "ipython3",
   "version": "3.10.1"
  }
 },
 "nbformat": 4,
 "nbformat_minor": 5
}
